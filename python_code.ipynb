#IBM Data Science Capstone Project
##by My Trinh Tieu
import pandas as pd
improt numpy as np
Print("Hello Capstone Project Course!"
